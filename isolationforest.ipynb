{
 "cells": [
  {
   "cell_type": "code",
   "execution_count": 1,
   "id": "56289cea-d8d9-4e6a-a428-c76de404813b",
   "metadata": {},
   "outputs": [
    {
     "name": "stderr",
     "output_type": "stream",
     "text": [
      "2022-05-06 11:29:13.382826: I tensorflow/stream_executor/platform/default/dso_loader.cc:53] Successfully opened dynamic library libcudart.so.11.0\n",
      "2022-05-06 11:29:16.301732: I tensorflow/core/platform/cpu_feature_guard.cc:142] This TensorFlow binary is optimized with oneAPI Deep Neural Network Library (oneDNN) to use the following CPU instructions in performance-critical operations:  AVX2 AVX512F FMA\n",
      "To enable them in other operations, rebuild TensorFlow with the appropriate compiler flags.\n",
      "2022-05-06 11:29:16.312755: I tensorflow/stream_executor/platform/default/dso_loader.cc:53] Successfully opened dynamic library libcuda.so.1\n",
      "2022-05-06 11:29:16.418343: I tensorflow/core/common_runtime/gpu/gpu_device.cc:1733] Found device 0 with properties: \n",
      "pciBusID: 0000:d6:00.0 name: NVIDIA GeForce RTX 3090 computeCapability: 8.6\n",
      "coreClock: 1.695GHz coreCount: 82 deviceMemorySize: 23.70GiB deviceMemoryBandwidth: 871.81GiB/s\n",
      "2022-05-06 11:29:16.418380: I tensorflow/stream_executor/platform/default/dso_loader.cc:53] Successfully opened dynamic library libcudart.so.11.0\n",
      "2022-05-06 11:29:16.422194: I tensorflow/stream_executor/platform/default/dso_loader.cc:53] Successfully opened dynamic library libcublas.so.11\n",
      "2022-05-06 11:29:16.422289: I tensorflow/stream_executor/platform/default/dso_loader.cc:53] Successfully opened dynamic library libcublasLt.so.11\n",
      "2022-05-06 11:29:16.423507: I tensorflow/stream_executor/platform/default/dso_loader.cc:53] Successfully opened dynamic library libcufft.so.10\n",
      "2022-05-06 11:29:16.423841: I tensorflow/stream_executor/platform/default/dso_loader.cc:53] Successfully opened dynamic library libcurand.so.10\n",
      "2022-05-06 11:29:16.424785: I tensorflow/stream_executor/platform/default/dso_loader.cc:53] Successfully opened dynamic library libcusolver.so.11\n",
      "2022-05-06 11:29:16.425592: I tensorflow/stream_executor/platform/default/dso_loader.cc:53] Successfully opened dynamic library libcusparse.so.11\n",
      "2022-05-06 11:29:16.425769: I tensorflow/stream_executor/platform/default/dso_loader.cc:53] Successfully opened dynamic library libcudnn.so.8\n",
      "2022-05-06 11:29:16.427166: I tensorflow/core/common_runtime/gpu/gpu_device.cc:1871] Adding visible gpu devices: 0\n",
      "2022-05-06 11:29:16.427203: I tensorflow/stream_executor/platform/default/dso_loader.cc:53] Successfully opened dynamic library libcudart.so.11.0\n"
     ]
    },
    {
     "name": "stdout",
     "output_type": "stream",
     "text": [
      "Device mapping:\n",
      "/job:localhost/replica:0/task:0/device:GPU:0 -> device: 0, name: NVIDIA GeForce RTX 3090, pci bus id: 0000:d6:00.0, compute capability: 8.6\n",
      "\n"
     ]
    },
    {
     "name": "stderr",
     "output_type": "stream",
     "text": [
      "2022-05-06 11:29:16.959969: I tensorflow/core/common_runtime/gpu/gpu_device.cc:1258] Device interconnect StreamExecutor with strength 1 edge matrix:\n",
      "2022-05-06 11:29:16.959996: I tensorflow/core/common_runtime/gpu/gpu_device.cc:1264]      0 \n",
      "2022-05-06 11:29:16.960001: I tensorflow/core/common_runtime/gpu/gpu_device.cc:1277] 0:   N \n",
      "2022-05-06 11:29:16.962120: I tensorflow/core/common_runtime/gpu/gpu_device.cc:1418] Created TensorFlow device (/job:localhost/replica:0/task:0/device:GPU:0 with 22308 MB memory) -> physical GPU (device: 0, name: NVIDIA GeForce RTX 3090, pci bus id: 0000:d6:00.0, compute capability: 8.6)\n"
     ]
    }
   ],
   "source": [
    "from tensorflow.python.keras import layers\n",
    "import numpy as np\n",
    "from tensorflow.python.keras.callbacks import TensorBoard\n",
    "import matplotlib.pyplot as plt\n",
    "from PIL import Image\n",
    "import os.path\n",
    "import glob\n",
    "import os\n",
    "import cv2\n",
    "from tqdm import tqdm\n",
    "import pandas as pd\n",
    "import seaborn as sns\n",
    "import tensorflow as tf\n",
    "from sklearn.ensemble import IsolationForest\n",
    "from tensorflow.compat.v1.keras.backend import set_session\n",
    "config = tf.compat.v1.ConfigProto()\n",
    "config.gpu_options.allow_growth = True  # dynamically grow the memory used on the GPU\n",
    "config.log_device_placement = True  # to log device placement (on which device the operation ran)\n",
    "sess = tf.compat.v1.Session(config=config)\n",
    "set_session(sess)"
   ]
  },
  {
   "cell_type": "code",
   "execution_count": null,
   "id": "10810d3d-a683-449f-9b44-2452907ec424",
   "metadata": {},
   "outputs": [],
   "source": [
    "def convertjpg(jpgfile,outdir,width=64,height=64):\n",
    "    img=Image.open(jpgfile)   \n",
    "    new_img=img.resize((width,height),Image.BILINEAR)   \n",
    "    new_img.save(os.path.join(outdir,os.path.basename(jpgfile)))\n",
    "for jpgfile in glob.glob('/root/autodl-tmp/thispersondoesnotexist.10k/*.jpg'):\n",
    "    convertjpg(jpgfile,'/root/autodl-tmp/thispersondoesnotexist.10k')\n",
    "for jpgfile in glob.glob('/root/autodl-tmp/0/*.jpg'):\n",
    "    convertjpg(jpgfile,'/root/autodl-tmp/0')"
   ]
  },
  {
   "cell_type": "code",
   "execution_count": 2,
   "id": "af8f2457-0b48-4b74-a56b-fc0c5402a8f3",
   "metadata": {},
   "outputs": [],
   "source": [
    "def getFileName(filepath):\n",
    "    path_list = []\n",
    "    pathList = os.listdir(filepath)\n",
    "    for allFile in pathList:\n",
    "        everyFile = os.path.join(filepath, allFile)\n",
    "        path_list.append(everyFile)\n",
    "    return path_list\n",
    "training_path = getFileName('/root/autodl-tmp/thispersondoesnotexist.10k')\n",
    "testing_path = getFileName('/root/autodl-tmp/0')"
   ]
  },
  {
   "cell_type": "code",
   "execution_count": 3,
   "id": "455cc4a4-ca45-4af9-9cc3-305f51d69a25",
   "metadata": {},
   "outputs": [],
   "source": [
    "training_path = training_path[:10000]"
   ]
  },
  {
   "cell_type": "code",
   "execution_count": 4,
   "id": "fb633438-92d8-43d0-bb15-95ac04cdb018",
   "metadata": {},
   "outputs": [],
   "source": [
    "testing_img_path = training_path[:800] + testing_path[:200]\n",
    "training_img_path = training_path[800:]"
   ]
  },
  {
   "cell_type": "code",
   "execution_count": 5,
   "id": "6e556678-0d09-450d-a230-8500bc37f0f0",
   "metadata": {},
   "outputs": [],
   "source": [
    "test_y = 800*[0] + 200*[1]\n",
    "test_y = np.array(test_y)"
   ]
  },
  {
   "cell_type": "code",
   "execution_count": 6,
   "id": "716386e8-ee60-4c41-83d7-8f9aaae1f6b5",
   "metadata": {},
   "outputs": [
    {
     "name": "stdout",
     "output_type": "stream",
     "text": [
      "(9200, 64, 64, 3)\n",
      "(1000, 64, 64, 3)\n"
     ]
    }
   ],
   "source": [
    "train = np.array([cv2.imdecode(np.fromfile(path,dtype=np.uint8),-1)/ 255. for path in training_img_path])\n",
    "train = train.reshape(9200,64,64,3)\n",
    "print(train.shape)\n",
    "test = np.array([cv2.imdecode(np.fromfile(path,dtype=np.uint8),-1)/ 255. for path in testing_img_path])\n",
    "test = test.reshape(1000,64,64,3)\n",
    "print(test.shape)"
   ]
  },
  {
   "cell_type": "code",
   "execution_count": 7,
   "id": "ba793fb1-5b47-4930-9f8d-72e9532fc85e",
   "metadata": {},
   "outputs": [],
   "source": [
    "clf = IsolationForest()"
   ]
  },
  {
   "cell_type": "code",
   "execution_count": 8,
   "id": "7a44c556-0717-45a5-addb-1767f6873571",
   "metadata": {},
   "outputs": [],
   "source": [
    "train_neg = [t.reshape(t.shape[0]* t.shape[1] * t.shape[2]) for t in train]"
   ]
  },
  {
   "cell_type": "code",
   "execution_count": 9,
   "id": "8303c547-746b-4638-8f2d-3744bf103de5",
   "metadata": {},
   "outputs": [
    {
     "data": {
      "text/plain": [
       "IsolationForest()"
      ]
     },
     "execution_count": 9,
     "metadata": {},
     "output_type": "execute_result"
    }
   ],
   "source": [
    "clf.fit(train_neg)"
   ]
  },
  {
   "cell_type": "code",
   "execution_count": 10,
   "id": "34407e58-418f-4b11-afbb-06a7bc06d1df",
   "metadata": {},
   "outputs": [
    {
     "name": "stderr",
     "output_type": "stream",
     "text": [
      "/root/miniconda3/lib/python3.8/site-packages/seaborn/distributions.py:2619: FutureWarning: `distplot` is a deprecated function and will be removed in a future version. Please adapt your code to use either `displot` (a figure-level function with similar flexibility) or `histplot` (an axes-level function for histograms).\n",
      "  warnings.warn(msg, FutureWarning)\n"
     ]
    },
    {
     "data": {
      "text/plain": [
       "<AxesSubplot:ylabel='Density'>"
      ]
     },
     "execution_count": 10,
     "metadata": {},
     "output_type": "execute_result"
    },
    {
     "data": {
      "image/png": "[encoded data removed]",
      "text/plain": [
       "<Figure size 432x288 with 1 Axes>"
      ]
     },
     "metadata": {
      "needs_background": "light"
     },
     "output_type": "display_data"
    }
   ],
   "source": [
    "scores = clf.decision_function(train_neg)\n",
    "sns.distplot(scores)"
   ]
  },
  {
   "cell_type": "code",
   "execution_count": 11,
   "id": "4f822b0e-908c-494b-85d3-4f9a330f8419",
   "metadata": {},
   "outputs": [],
   "source": [
    "test_tmp = [t.reshape(t.shape[0]* t.shape[1] * t.shape[2]) for t in test]"
   ]
  },
  {
   "cell_type": "code",
   "execution_count": 12,
   "id": "bef98d44-4ccc-4846-8d2a-ccffd177c60a",
   "metadata": {},
   "outputs": [
    {
     "name": "stderr",
     "output_type": "stream",
     "text": [
      "/root/miniconda3/lib/python3.8/site-packages/seaborn/distributions.py:2619: FutureWarning: `distplot` is a deprecated function and will be removed in a future version. Please adapt your code to use either `displot` (a figure-level function with similar flexibility) or `histplot` (an axes-level function for histograms).\n",
      "  warnings.warn(msg, FutureWarning)\n"
     ]
    },
    {
     "data": {
      "text/plain": [
       "<AxesSubplot:ylabel='Density'>"
      ]
     },
     "execution_count": 12,
     "metadata": {},
     "output_type": "execute_result"
    },
    {
     "data": {
      "image/png": "[encoded data removed]",
      "text/plain": [
       "<Figure size 432x288 with 1 Axes>"
      ]
     },
     "metadata": {
      "needs_background": "light"
     },
     "output_type": "display_data"
    }
   ],
   "source": [
    "scores2 = clf.decision_function(test_tmp)\n",
    "sns.distplot(scores2)"
   ]
  },
  {
   "cell_type": "code",
   "execution_count": 26,
   "id": "da429087-e521-4a07-8e74-f5960f628e6a",
   "metadata": {},
   "outputs": [],
   "source": [
    "result = clf.predict(test_tmp)\n",
    "result = result.reshape(1000,1)"
   ]
  },
  {
   "cell_type": "code",
   "execution_count": 18,
   "id": "4a54ae35-8a5d-4315-91f8-492014919faf",
   "metadata": {},
   "outputs": [
    {
     "name": "stdout",
     "output_type": "stream",
     "text": [
      "accuracy: 0.889, recall: 1.000, precision: 0.643, related f1 score: 0.783, AUC: 0.069\n",
      "In 1000 data of test set, TP: 200, FN: 0, FP: 111, TN: 689\n"
     ]
    }
   ],
   "source": [
    "from sklearn.metrics import roc_auc_score\n",
    "test_y = test_y.reshape(1000,1)\n",
    "TP = ((test_y==1) & (result==-1)).sum()\n",
    "FN = ((test_y==1) & (result==1)).sum()\n",
    "FP = ((test_y==0) & (result==-1)).sum()\n",
    "TN = ((test_y==0) & (result==1)).sum()\n",
    "acc = (TP+TN)/1000\n",
    "recall = TP/(TP+FN)\n",
    "precision = TP/(TP+FP)\n",
    "f1 = 2*precision*recall/(precision+recall)\n",
    "print('accuracy: %.3f, recall: %.3f, precision: %.3f, related f1 score: %.3f'%(acc,recall,precision,f1))\n",
    "print('In %d data of test set, TP: %d, FN: %d, FP: %d, TN: %d'%(len(test_y),TP,FN,FP,TN))"
   ]
  },
  {
   "cell_type": "code",
   "execution_count": 28,
   "id": "b9c69997-df84-4d3b-a325-88a5dac06fae",
   "metadata": {},
   "outputs": [],
   "source": [
    "result[np.where(result==1),:] = 0"
   ]
  },
  {
   "cell_type": "code",
   "execution_count": 29,
   "id": "3c531266-d6b0-4986-a959-0c68c91a333f",
   "metadata": {},
   "outputs": [],
   "source": [
    "result[np.where(result==-1),:] = 1"
   ]
  },
  {
   "cell_type": "code",
   "execution_count": 32,
   "id": "fd0f364f-5099-4547-a093-dc9fad71cc45",
   "metadata": {},
   "outputs": [
    {
     "name": "stdout",
     "output_type": "stream",
     "text": [
      "accuracy: 0.888, recall: 1.000, precision: 0.641, related f1 score: 0.781, AUC: 0.930\n",
      "In 1000 data of test set, TP: 200, FN: 0, FP: 112, TN: 688\n"
     ]
    }
   ],
   "source": [
    "from sklearn.metrics import roc_auc_score\n",
    "test_y = test_y.reshape(1000,1)\n",
    "TP = ((test_y==1) & (result==1)).sum()\n",
    "FN = ((test_y==1) & (result==0)).sum()\n",
    "FP = ((test_y==0) & (result==1)).sum()\n",
    "TN = ((test_y==0) & (result==0)).sum()\n",
    "acc = (TP+TN)/1000\n",
    "recall = TP/(TP+FN)\n",
    "precision = TP/(TP+FP)\n",
    "f1 = 2*precision*recall/(precision+recall)\n",
    "auc_score = roc_auc_score(test_y, result)\n",
    "print('accuracy: %.3f, recall: %.3f, precision: %.3f, related f1 score: %.3f, AUC: %.3f'%(acc,recall,precision,f1,auc_score))\n",
    "print('In %d data of test set, TP: %d, FN: %d, FP: %d, TN: %d'%(len(test_y),TP,FN,FP,TN))"
   ]
  },
  {
   "cell_type": "code",
   "execution_count": null,
   "id": "b10d6933-1676-4cc4-bc8c-8ea98bbab551",
   "metadata": {},
   "outputs": [],
   "source": []
  }
 ],
 "metadata": {
  "kernelspec": {
   "display_name": "Python 3 (ipykernel)",
   "language": "python",
   "name": "python3"
  },
  "language_info": {
   "codemirror_mode": {
    "name": "ipython",
    "version": 3
   },
   "file_extension": ".py",
   "mimetype": "text/x-python",
   "name": "python",
   "nbconvert_exporter": "python",
   "pygments_lexer": "ipython3",
   "version": "3.8.10"
  }
 },
 "nbformat": 4,
 "nbformat_minor": 5
}
