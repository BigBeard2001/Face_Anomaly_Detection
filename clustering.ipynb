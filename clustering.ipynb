{
 "cells": [
  {
   "cell_type": "code",
   "execution_count": 1,
   "id": "fd52ec6e-5c64-4fb9-aa27-fc4d93822cd2",
   "metadata": {},
   "outputs": [],
   "source": [
    "import numpy as np\n",
    "import pandas as pd # data processing, CSV file I/O (e.g. pd.read_csv)\n",
    "import sys\n",
    "import matplotlib.pyplot as plt\n",
    "import seaborn as sns\n",
    "import scipy\n",
    "import sklearn\n",
    "import os\n",
    "import cv2\n",
    "from tqdm import tqdm"
   ]
  },
  {
   "cell_type": "code",
   "execution_count": null,
   "id": "12e75e32-8fd7-4392-99dc-fe954890ca4c",
   "metadata": {},
   "outputs": [],
   "source": [
    "def convertjpg(jpgfile,outdir,width=64,height=64):\n",
    "    img=Image.open(jpgfile)   \n",
    "    new_img=img.resize((width,height),Image.BILINEAR)   \n",
    "    new_img.save(os.path.join(outdir,os.path.basename(jpgfile)))\n",
    "for jpgfile in glob.glob('/root/autodl-tmp/thispersondoesnotexist.10k/*.jpg'):\n",
    "    convertjpg(jpgfile,'/root/autodl-tmp/thispersondoesnotexist.10k')\n",
    "for jpgfile in glob.glob('/root/autodl-tmp/0/*.jpg'):\n",
    "    convertjpg(jpgfile,'/root/autodl-tmp/0')"
   ]
  },
  {
   "cell_type": "code",
   "execution_count": 2,
   "id": "4a4a92e9-6eed-425c-8473-02450f490b01",
   "metadata": {},
   "outputs": [],
   "source": [
    "def getFileName(filepath):\n",
    "    path_list = []\n",
    "    pathList = os.listdir(filepath)\n",
    "    for allFile in pathList:\n",
    "        everyFile = os.path.join(filepath, allFile)\n",
    "        path_list.append(everyFile)\n",
    "    return path_list\n",
    "training_path = getFileName('/root/autodl-tmp/thispersondoesnotexist.10k')\n",
    "testing_path = getFileName('/root/autodl-tmp/0')"
   ]
  },
  {
   "cell_type": "code",
   "execution_count": 3,
   "id": "489e1c1c-220d-40a7-aeac-400856629f84",
   "metadata": {},
   "outputs": [],
   "source": [
    "training_path = training_path[:10000]"
   ]
  },
  {
   "cell_type": "code",
   "execution_count": 4,
   "id": "bf410ac9-b1dc-47ee-a79a-0f627fd7f4f8",
   "metadata": {},
   "outputs": [],
   "source": [
    "testing_img_path = training_path[:800] + testing_path[:200]\n",
    "training_img_path = training_path[800:]"
   ]
  },
  {
   "cell_type": "code",
   "execution_count": 5,
   "id": "3e4537d3-90ef-46aa-9572-834b4548809d",
   "metadata": {},
   "outputs": [],
   "source": [
    "test_y = 800*[0] + 200*[1]\n",
    "test_y = np.array(test_y)"
   ]
  },
  {
   "cell_type": "code",
   "execution_count": 6,
   "id": "9e07ee21-cce5-4bce-bb17-dc769f004727",
   "metadata": {},
   "outputs": [
    {
     "name": "stdout",
     "output_type": "stream",
     "text": [
      "(9200, 64, 64, 3)\n",
      "(1000, 64, 64, 3)\n"
     ]
    }
   ],
   "source": [
    "train = np.array([cv2.imdecode(np.fromfile(path,dtype=np.uint8),-1)/ 255. for path in training_img_path])\n",
    "train = train.reshape(9200,64,64,3)\n",
    "print(train.shape)\n",
    "test = np.array([cv2.imdecode(np.fromfile(path,dtype=np.uint8),-1)/ 255. for path in testing_img_path])\n",
    "test = test.reshape(1000,64,64,3)\n",
    "print(test.shape)"
   ]
  },
  {
   "cell_type": "code",
   "execution_count": 7,
   "id": "d9bfd596-7bf3-4908-945f-a2657c739da0",
   "metadata": {},
   "outputs": [],
   "source": [
    "train_neg = [t.reshape(t.shape[0]* t.shape[1] * t.shape[2]) for t in train]\n",
    "test_tmp = [t.reshape(t.shape[0]* t.shape[1] * t.shape[2]) for t in test]"
   ]
  },
  {
   "cell_type": "code",
   "execution_count": 8,
   "id": "abdf6fbf-8f8e-4731-8954-2139acb5576a",
   "metadata": {},
   "outputs": [],
   "source": [
    "def kmeansClustering(X,Y,nClusters):#K-means algorithm \n",
    "    from sklearn.cluster import KMeans\n",
    "    KMEANS = KMeans(n_clusters = nClusters, init = 'random',max_iter = 300,n_init = 10,random_state = 0)\n",
    "    kmeans = KMEANS.fit(X)\n",
    "    Z = kmeans.labels_\n",
    "    inertia = KMEANS.inertia_\n",
    "    #Kmeans Results\n",
    "    kmeansR = pd.crosstab(Y,Z)\n",
    "    maxVal = kmeansR.idxmax()\n",
    "    return Z,kmeansR,maxVal,inertia"
   ]
  },
  {
   "cell_type": "code",
   "execution_count": 9,
   "id": "4ec87e25-6091-4eba-9dd1-f887a362f293",
   "metadata": {},
   "outputs": [],
   "source": [
    "Z,kmeansR,maxVal,inertia = kmeansClustering(test_tmp, test_y, 2)"
   ]
  },
  {
   "cell_type": "code",
   "execution_count": 10,
   "id": "177147b9-2301-4cc3-9512-663eae6b0d15",
   "metadata": {},
   "outputs": [
    {
     "data": {
      "text/html": [
       "<div>\n",
       "<style scoped>\n",
       "    .dataframe tbody tr th:only-of-type {\n",
       "        vertical-align: middle;\n",
       "    }\n",
       "\n",
       "    .dataframe tbody tr th {\n",
       "        vertical-align: top;\n",
       "    }\n",
       "\n",
       "    .dataframe thead th {\n",
       "        text-align: right;\n",
       "    }\n",
       "</style>\n",
       "<table border=\"1\" class=\"dataframe\">\n",
       "  <thead>\n",
       "    <tr style=\"text-align: right;\">\n",
       "      <th>col_0</th>\n",
       "      <th>0</th>\n",
       "      <th>1</th>\n",
       "    </tr>\n",
       "    <tr>\n",
       "      <th>row_0</th>\n",
       "      <th></th>\n",
       "      <th></th>\n",
       "    </tr>\n",
       "  </thead>\n",
       "  <tbody>\n",
       "    <tr>\n",
       "      <th>0</th>\n",
       "      <td>787</td>\n",
       "      <td>13</td>\n",
       "    </tr>\n",
       "    <tr>\n",
       "      <th>1</th>\n",
       "      <td>0</td>\n",
       "      <td>200</td>\n",
       "    </tr>\n",
       "  </tbody>\n",
       "</table>\n",
       "</div>"
      ],
      "text/plain": [
       "col_0    0    1\n",
       "row_0          \n",
       "0      787   13\n",
       "1        0  200"
      ]
     },
     "execution_count": 10,
     "metadata": {},
     "output_type": "execute_result"
    }
   ],
   "source": [
    "kmeansR"
   ]
  },
  {
   "cell_type": "code",
   "execution_count": 11,
   "id": "7d94110f-e123-43c2-b2c2-5ac7e3112a20",
   "metadata": {},
   "outputs": [],
   "source": [
    "TP = 200\n",
    "TN = 787\n",
    "FP = 13\n",
    "FN = 0"
   ]
  },
  {
   "cell_type": "code",
   "execution_count": 17,
   "id": "2516dbb6-3b18-40a6-8ec0-f1d11d72bc8a",
   "metadata": {},
   "outputs": [
    {
     "name": "stdout",
     "output_type": "stream",
     "text": [
      "accuracy: 0.987, recall: 1.000, precision: 0.939, related f1 score: 0.969, AUC: 0.969\n",
      "In 1000 data of test set, TP: 200, FN: 0, FP: 13, TN: 787\n"
     ]
    }
   ],
   "source": [
    "from sklearn.metrics import roc_auc_score\n",
    "acc = (TP+TN)/1000\n",
    "recall = TP/(TP+FN)\n",
    "precision = TP/(TP+FP)\n",
    "f1 = 2*precision*recall/(precision+recall)\n",
    "Z = Z.reshape(1000,1)\n",
    "test_y = test_y.reshape(1000,1)\n",
    "auc_score = roc_auc_score(Z,test_y)\n",
    "print('accuracy: %.3f, recall: %.3f, precision: %.3f, related f1 score: %.3f, AUC: %.3f'%(acc,recall,precision,f1,auc_score))\n",
    "print('In %d data of test set, TP: %d, FN: %d, FP: %d, TN: %d'%(len(test_y),TP,FN,FP,TN))"
   ]
  },
  {
   "cell_type": "code",
   "execution_count": null,
   "id": "592ee7bf-2105-4cf3-ac93-ceedad28ec12",
   "metadata": {},
   "outputs": [],
   "source": []
  }
 ],
 "metadata": {
  "kernelspec": {
   "display_name": "Python 3 (ipykernel)",
   "language": "python",
   "name": "python3"
  },
  "language_info": {
   "codemirror_mode": {
    "name": "ipython",
    "version": 3
   },
   "file_extension": ".py",
   "mimetype": "text/x-python",
   "name": "python",
   "nbconvert_exporter": "python",
   "pygments_lexer": "ipython3",
   "version": "3.8.10"
  }
 },
 "nbformat": 4,
 "nbformat_minor": 5
}
