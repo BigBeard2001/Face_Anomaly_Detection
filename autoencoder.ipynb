{
 "cells": [
  {
   "cell_type": "code",
   "execution_count": null,
   "outputs": [],
   "source": [
    "from tensorflow.python.keras import layers\n",
    "import numpy as np\n",
    "from tensorflow.python.keras.callbacks import TensorBoard\n",
    "import matplotlib.pyplot as plt\n",
    "from PIL import Image\n",
    "import os.path\n",
    "import warnings\n",
    "import glob\n",
    "import os\n",
    "import zetane\n",
    "import cv2\n",
    "from tqdm import tqdm\n",
    "import pandas as pd\n",
    "import seaborn as sns\n",
    "import tensorflow as tf\n",
    "from tensorflow.compat.v1.keras.backend import set_session\n",
    "config = tf.compat.v1.ConfigProto()\n",
    "config.gpu_options.allow_growth = True  # dynamically grow the memory used on the GPU\n",
    "config.log_device_placement = True  # to log device placement (on which device the operation ran)\n",
    "sess = tf.compat.v1.Session(config=config)\n",
    "set_session(sess)"
   ],
   "metadata": {
    "collapsed": false,
    "pycharm": {
     "name": "#%%\n"
    }
   }
  },
  {
   "cell_type": "code",
   "execution_count": null,
   "outputs": [],
   "source": [
    "def convertjpg(jpgfile,outdir,width=64,height=64):\n",
    "    img=Image.open(jpgfile)   \n",
    "    new_img=img.resize((width,height),Image.BILINEAR)   \n",
    "    new_img.save(os.path.join(outdir,os.path.basename(jpgfile)))\n",
    "for jpgfile in glob.glob('/root/autodl-tmp/thispersondoesnotexist.10k/*.jpg'):\n",
    "    convertjpg(jpgfile,'/root/autodl-tmp/thispersondoesnotexist.10k')\n",
    "for jpgfile in glob.glob('/root/autodl-tmp/0/*.jpg'):\n",
    "    convertjpg(jpgfile,'/root/autodl-tmp/0')"
   ],
   "metadata": {
    "collapsed": false,
    "pycharm": {
     "name": "#%%\n"
    }
   }
  },
  {
   "cell_type": "code",
   "execution_count": null,
   "outputs": [],
   "source": [
    "def convertjpg_rgba(jpgfile,outdir,width=64,height=64):\n",
    "    img=Image.open(jpgfile)  \n",
    "    img = img.convert('RGB')\n",
    "    new_img=img.resize((width,height),Image.BILINEAR)   \n",
    "    new_img.save(os.path.join(outdir,os.path.basename(jpgfile)))"
   ],
   "metadata": {
    "collapsed": false,
    "pycharm": {
     "name": "#%%\n"
    }
   }
  },
  {
   "cell_type": "code",
   "execution_count": null,
   "outputs": [],
   "source": [
    "for jpgfile in glob.glob('/root/autodl-tmp/interesting/*.jpg'):\n",
    "    convertjpg(jpgfile,'/root/autodl-tmp/interesting')"
   ],
   "metadata": {
    "collapsed": false,
    "pycharm": {
     "name": "#%%\n"
    }
   }
  },
  {
   "cell_type": "code",
   "execution_count": null,
   "outputs": [],
   "source": [
    "def getFileName(filepath):\n",
    "    path_list = []\n",
    "    pathList = os.listdir(filepath)\n",
    "    for allFile in pathList:\n",
    "        everyFile = os.path.join(filepath, allFile)\n",
    "        path_list.append(everyFile)\n",
    "    return path_list\n",
    "training_path = getFileName('/root/autodl-tmp/thispersondoesnotexist.10k')\n",
    "testing_path = getFileName('/root/autodl-tmp/0')\n",
    "interesting_path = getFileName('/root/autodl-tmp/interesting')"
   ],
   "metadata": {
    "collapsed": false,
    "pycharm": {
     "name": "#%%\n"
    }
   }
  },
  {
   "cell_type": "code",
   "execution_count": null,
   "outputs": [],
   "source": [
    "training_path = training_path[:10000]"
   ],
   "metadata": {
    "collapsed": false,
    "pycharm": {
     "name": "#%%\n"
    }
   }
  },
  {
   "cell_type": "code",
   "execution_count": null,
   "outputs": [],
   "source": [
    "print(len(training_path))\n",
    "print(len(testing_path))\n",
    "print(len(interesting_path))"
   ],
   "metadata": {
    "collapsed": false,
    "pycharm": {
     "name": "#%%\n"
    }
   }
  },
  {
   "cell_type": "code",
   "execution_count": null,
   "outputs": [],
   "source": [
    "testing_img_path = training_path[:800] + testing_path[:200]\n",
    "training_img_path = training_path[800:]\n",
    "interesting_path = interesting_path[:3]"
   ],
   "metadata": {
    "collapsed": false,
    "pycharm": {
     "name": "#%%\n"
    }
   }
  },
  {
   "cell_type": "code",
   "execution_count": null,
   "outputs": [],
   "source": [
    "test_y = 800*[0] + 200*[1]\n",
    "test_y = np.array(test_y)"
   ],
   "metadata": {
    "collapsed": false,
    "pycharm": {
     "name": "#%%\n"
    }
   }
  },
  {
   "cell_type": "code",
   "execution_count": null,
   "outputs": [],
   "source": [
    "train = np.array([cv2.imdecode(np.fromfile(path,dtype=np.uint8),-1)/ 255. for path in training_img_path])\n",
    "train = train.reshape(9200,64,64,3)\n",
    "print(train.shape)\n",
    "test = np.array([cv2.imdecode(np.fromfile(path,dtype=np.uint8),-1)/ 255. for path in testing_img_path])\n",
    "test = test.reshape(1000,64,64,3)\n",
    "print(test.shape)\n",
    "interesting = np.array([cv2.imdecode(np.fromfile(path,dtype=np.uint8),-1)/ 255. for path in interesting_path])\n",
    "interesting = interesting.reshape(3,64,64,3)\n",
    "print(interesting.shape)"
   ],
   "metadata": {
    "collapsed": false,
    "pycharm": {
     "name": "#%%\n"
    }
   }
  },
  {
   "cell_type": "code",
   "execution_count": null,
   "outputs": [],
   "source": [
    "import tensorflow.python.keras as keras\n",
    "from tensorflow.python.keras import layers\n",
    "\n",
    "input_img = keras.Input(shape=(64, 64, 3))\n",
    "\n",
    "x = layers.Conv2D(16, (3, 3), activation='relu', padding='same')(input_img)\n",
    "x = layers.MaxPooling2D((2, 2), padding='same')(x)\n",
    "x = layers.Conv2D(8, (3, 3), activation='relu', padding='same')(x)\n",
    "x = layers.MaxPooling2D((2, 2), padding='same')(x)\n",
    "x = layers.Conv2D(8, (3, 3), activation='relu', padding='same')(x)\n",
    "x = layers.MaxPooling2D((2, 2), padding='same')(x)\n",
    "x = layers.Conv2D(4, (3, 3), activation='relu', padding='same')(x)\n",
    "x = layers.MaxPooling2D((2, 2), padding='same')(x)\n",
    "conv_shape = tf.shape(x)\n",
    "x = layers.Flatten()(x)\n",
    "x = layers.Dense(64, activation='relu')(x)\n",
    "x = layers.Dense(32, activation='relu')(x)\n",
    "x = layers.Dense(16, activation='relu')(x)\n",
    "x = layers.Dense(8, activation='relu')(x)\n",
    "encoded = layers.Dense(4, activation='relu')(x)\n",
    "x = layers.Dense(4, activation='relu')(encoded)\n",
    "x = layers.Dense(16, activation='relu')(x)\n",
    "x = layers.Dense(32, activation='relu')(x)\n",
    "x = layers.Dense(64, activation='relu')(x)\n",
    "x = tf.reshape(x, conv_shape)\n",
    "x = layers.Conv2D(4, (3, 3), activation='relu', padding='same')(x)\n",
    "x = layers.UpSampling2D((2, 2))(x)\n",
    "x = layers.Conv2D(8, (3, 3), activation='relu', padding='same')(x)\n",
    "x = layers.UpSampling2D((2, 2))(x)\n",
    "x = layers.Conv2D(8, (3, 3), activation='relu', padding='same')(x)\n",
    "x = layers.UpSampling2D((2, 2))(x)\n",
    "x = layers.Conv2D(16, (3, 3), activation='relu', padding='same')(x) \n",
    "x = layers.UpSampling2D((2, 2))(x)\n",
    "decoded = layers.Conv2D(3, (3, 3), activation='sigmoid', padding='same')(x)\n",
    "autoencoder = keras.Model(input_img, decoded)\n",
    "autoencoder.compile(optimizer='adam', loss='binary_crossentropy')\n",
    "autoencoder.summary()"
   ],
   "metadata": {
    "collapsed": false,
    "pycharm": {
     "name": "#%%\n"
    }
   }
  },
  {
   "cell_type": "code",
   "execution_count": null,
   "outputs": [],
   "source": [
    "from tensorflow.python.keras.callbacks import TensorBoard\n",
    "\n",
    "autoencoder.fit(train, train,\n",
    "                epochs=1000,\n",
    "                batch_size=128,\n",
    "                shuffle=True,\n",
    "                validation_data=(train, train),\n",
    "                callbacks=[TensorBoard(log_dir='/tmp/autoencoder')])"
   ],
   "metadata": {
    "collapsed": false,
    "pycharm": {
     "name": "#%%\n"
    }
   }
  },
  {
   "cell_type": "code",
   "execution_count": null,
   "outputs": [],
   "source": [
    "#autoencoder.save(\"autoencoder_cartoon_fc.h5\")\n",
    "#autoencoder.save_weights(\"autoencoder_cartoon_fc_weights.h5\")"
   ],
   "metadata": {
    "collapsed": false,
    "pycharm": {
     "name": "#%%\n"
    }
   }
  },
  {
   "cell_type": "code",
   "execution_count": null,
   "outputs": [],
   "source": [
    "from tensorflow import keras\n",
    "autoencoder = keras.models.load_model('autoencoder_cartoon_fc')\n",
    "autoencoder.load_weights(\"autoencoder_cartoon_fc_weights.h5\")"
   ],
   "metadata": {
    "collapsed": false,
    "pycharm": {
     "name": "#%%\n"
    }
   }
  },
  {
   "cell_type": "code",
   "execution_count": null,
   "outputs": [],
   "source": [
    "def plot_AE_history(history):\n",
    "    plt.plot(history.history.history['loss'],\n",
    "             'b',\n",
    "             label='Training loss')\n",
    "    plt.plot(history.history.history['val_loss'],\n",
    "             'r',\n",
    "             label='Validation loss')\n",
    "    plt.legend(loc='lower right')\n",
    "    plt.xlabel('Epochs')\n",
    "    plt.ylabel('Loss, [mse]')\n",
    "    plt.ylim([0.6,0.7])\n",
    "    plt.show()\n",
    "\n",
    "plot_AE_history(autoencoder)"
   ],
   "metadata": {
    "collapsed": false,
    "pycharm": {
     "name": "#%%\n"
    }
   }
  },
  {
   "cell_type": "code",
   "execution_count": null,
   "outputs": [],
   "source": [
    "X_pred = autoencoder.predict(train)"
   ],
   "metadata": {
    "collapsed": false,
    "pycharm": {
     "name": "#%%\n"
    }
   }
  },
  {
   "cell_type": "code",
   "execution_count": null,
   "outputs": [],
   "source": [
    "normal_max = 0\n",
    "loss_list = []\n",
    "for i in range(train.shape[0]):\n",
    "    normal_loss = X_pred[i]\n",
    "    loss = np.mean((normal_loss-train[i])**2)\n",
    "    normal_max = max(normal_max, loss)\n",
    "    loss_list.append(loss)"
   ],
   "metadata": {
    "collapsed": false,
    "pycharm": {
     "name": "#%%\n"
    }
   }
  },
  {
   "cell_type": "code",
   "execution_count": null,
   "outputs": [],
   "source": [
    "a = np.linspace(0, 9200, 9200)\n",
    "plt.scatter(a, np.array(loss_list), s = 3)"
   ],
   "metadata": {
    "collapsed": false,
    "pycharm": {
     "name": "#%%\n"
    }
   }
  },
  {
   "cell_type": "code",
   "execution_count": null,
   "outputs": [],
   "source": [
    "X_test_pred = autoencoder.predict(test)"
   ],
   "metadata": {
    "collapsed": false,
    "pycharm": {
     "name": "#%%\n"
    }
   }
  },
  {
   "cell_type": "code",
   "execution_count": null,
   "outputs": [],
   "source": [
    "X_interesting_pred = autoencoder.predict(interesting)"
   ],
   "metadata": {
    "collapsed": false,
    "pycharm": {
     "name": "#%%\n"
    }
   }
  },
  {
   "cell_type": "code",
   "execution_count": null,
   "outputs": [],
   "source": [
    "losses_int = []\n",
    "for i in range(interesting.shape[0]):\n",
    "    interesting_decoded = X_interesting_pred[i]\n",
    "    loss_int = np.mean((interesting_decoded-interesting[i])**2)\n",
    "    losses_int.append(loss_int)"
   ],
   "metadata": {
    "collapsed": false,
    "pycharm": {
     "name": "#%%\n"
    }
   }
  },
  {
   "cell_type": "code",
   "execution_count": null,
   "outputs": [],
   "source": [
    "losses_int"
   ],
   "metadata": {
    "collapsed": false,
    "pycharm": {
     "name": "#%%\n"
    }
   }
  },
  {
   "cell_type": "code",
   "execution_count": null,
   "outputs": [],
   "source": [
    "threshold = np.linspace(0, 1, 5000)"
   ],
   "metadata": {
    "collapsed": false,
    "pycharm": {
     "name": "#%%\n"
    }
   }
  },
  {
   "cell_type": "code",
   "execution_count": null,
   "outputs": [],
   "source": [
    "losses = []\n",
    "for i in range(test.shape[0]):\n",
    "    x_decoded = X_test_pred[i]\n",
    "    loss = np.mean((x_decoded-test[i])**2)\n",
    "    losses.append(loss)"
   ],
   "metadata": {
    "collapsed": false,
    "pycharm": {
     "name": "#%%\n"
    }
   }
  },
  {
   "cell_type": "code",
   "execution_count": null,
   "outputs": [],
   "source": [
    "a = np.linspace(0, 800, 800)\n",
    "plt.scatter(a, np.array(losses[0:800]), color = 'red', s=3)\n",
    "b = np.linspace(800, 1000, 200)\n",
    "plt.scatter(b, np.array(losses[800:]), color = 'blue', s=3)  "
   ],
   "metadata": {
    "collapsed": false,
    "pycharm": {
     "name": "#%%\n"
    }
   }
  },
  {
   "cell_type": "code",
   "execution_count": null,
   "outputs": [],
   "source": [
    "from sklearn.metrics import accuracy_score,f1_score\n",
    "acc_list = []\n",
    "f1_list = []\n",
    "for t in threshold:    \n",
    "    y_pred = (losses>t).astype(np.int64)\n",
    "    acc_list.append(accuracy_score(y_pred,test_y))\n",
    "    f1_list.append(f1_score(y_pred,test_y))"
   ],
   "metadata": {
    "collapsed": false,
    "pycharm": {
     "name": "#%%\n"
    }
   }
  },
  {
   "cell_type": "code",
   "execution_count": null,
   "outputs": [],
   "source": [
    "plt.figure(figsize=(8,6))\n",
    "plt.plot(threshold,acc_list,c = 'y',label = 'acc')\n",
    "plt.plot(threshold,f1_list,c = 'b',label = 'f1')\n",
    "plt.xlabel('threshold')\n",
    "plt.ylabel('Anomaly Detection score')\n",
    "plt.legend()"
   ],
   "metadata": {
    "collapsed": false,
    "pycharm": {
     "name": "#%%\n"
    }
   }
  },
  {
   "cell_type": "code",
   "execution_count": null,
   "outputs": [],
   "source": [
    "from sklearn.metrics import roc_auc_score"
   ],
   "metadata": {
    "collapsed": false,
    "pycharm": {
     "name": "#%%\n"
    }
   }
  },
  {
   "cell_type": "code",
   "execution_count": null,
   "outputs": [],
   "source": [
    "i = np.argmax(f1_list)\n",
    "t = threshold[i]\n",
    "score = f1_list[i]\n",
    "print('Recommended threshold: %.3f, related f1 score: %.3f'%(t,score))\n",
    "\n",
    "y_pred = (losses>t).astype(np.int64)\n",
    "y_pred = y_pred.reshape(1000,1)\n",
    "test_y = test_y.reshape(1000,1)\n",
    "TP = ((test_y==1) & (y_pred==1)).sum()\n",
    "FN = ((test_y==1) & (y_pred==0)).sum()\n",
    "FP = ((test_y==0) & (y_pred==1)).sum()\n",
    "TN = ((test_y==0) & (y_pred==0)).sum()\n",
    "acc = (TP+TN)/1000\n",
    "recall = TP/(TP+FN)\n",
    "precision = TP/(TP+FP)\n",
    "f1 = 2*precision*recall/(precision+recall)\n",
    "auc_score = roc_auc_score(test_y,y_pred)\n",
    "print('In %d data of test set, TP: %d, FN: %d, FP: %d, TN: %d'%(len(test_y),TP,FN,FP,TN))\n",
    "print('accuracy: %.3f, recall: %.3f, precision: %.3f, related f1 score: %.3f, AUC: %.3f'%(acc,recall,precision,f1, auc_score))"
   ],
   "metadata": {
    "collapsed": false,
    "pycharm": {
     "name": "#%%\n"
    }
   }
  },
  {
   "cell_type": "code",
   "execution_count": null,
   "outputs": [],
   "source": [
    "i = np.argmax(acc_list)\n",
    "t = threshold[i]\n",
    "score = acc_list[i]\n",
    "print('Recommended threshold: %.3f, related acc score: %.3f'%(t,score))\n",
    "\n",
    "y_pred = (losses>t).astype(np.int64)\n",
    "y_pred = y_pred.reshape(1000,1)\n",
    "test_y = test_y.reshape(1000,1)\n",
    "TP = ((test_y==1) & (y_pred==1)).sum()\n",
    "FN = ((test_y==1) & (y_pred==0)).sum()\n",
    "FP = ((test_y==0) & (y_pred==1)).sum()\n",
    "TN = ((test_y==0) & (y_pred==0)).sum()\n",
    "acc = (TP+TN)/1000\n",
    "recall = TP/(TP+FN)\n",
    "precision = TP/(TP+FP)\n",
    "f1 = 2*precision*recall/(precision+recall)\n",
    "auc_score = roc_auc_score(test_y,y_pred)\n",
    "print('In %d data of test set, TP: %d, FN: %d, FP: %d, TN: %d'%(len(test_y),TP,FN,FP,TN))\n",
    "print('accuracy: %.3f, recall: %.3f, precision: %.3f, related f1 score: %.3f, AUC: %.3f'%(acc,recall,precision,f1, auc_score))"
   ],
   "metadata": {
    "collapsed": false,
    "pycharm": {
     "name": "#%%\n"
    }
   }
  },
  {
   "cell_type": "code",
   "execution_count": null,
   "outputs": [],
   "source": [],
   "metadata": {
    "collapsed": false,
    "pycharm": {
     "name": "#%%\n"
    }
   }
  },
  {
   "cell_type": "code",
   "execution_count": 27,
   "metadata": {},
   "outputs": [
    {
     "data": {
      "text/plain": [
       "<matplotlib.legend.Legend at 0x7f394c0f29d0>"
      ]
     },
     "execution_count": 27,
     "metadata": {},
     "output_type": "execute_result"
    },
    {
     "data": {
      "image/png": "[encoded data removed]",
      "text/plain": [
       "<Figure size 576x432 with 1 Axes>"
      ]
     },
     "metadata": {
      "needs_background": "light"
     },
     "output_type": "display_data"
    }
   ],
   "source": [
    "plt.figure(figsize=(8,6))\n",
    "plt.plot(threshold,acc_list,c = 'y',label = 'acc')\n",
    "plt.plot(threshold,f1_list,c = 'b',label = 'f1')\n",
    "plt.xlabel('threshold')\n",
    "plt.ylabel('Anomaly Detection score')\n",
    "plt.legend()"
   ]
  },
  {
   "cell_type": "code",
   "execution_count": 32,
   "metadata": {},
   "outputs": [],
   "source": [
    "from sklearn.metrics import roc_auc_score"
   ]
  },
  {
   "cell_type": "code",
   "execution_count": 33,
   "metadata": {},
   "outputs": [
    {
     "name": "stdout",
     "output_type": "stream",
     "text": [
      "Recommended threshold: 0.142, related f1 score: 1.000\n",
      "In 1000 data of test set, TP: 200, FN: 0, FP: 0, TN: 800\n",
      "accuracy: 1.000, recall: 1.000, precision: 1.000, related f1 score: 1.000, AUC: 1.000\n"
     ]
    }
   ],
   "source": [
    "i = np.argmax(f1_list)\n",
    "t = threshold[i]\n",
    "score = f1_list[i]\n",
    "print('Recommended threshold: %.3f, related f1 score: %.3f'%(t,score))\n",
    "\n",
    "y_pred = (losses>t).astype(np.int64)\n",
    "y_pred = y_pred.reshape(1000,1)\n",
    "test_y = test_y.reshape(1000,1)\n",
    "TP = ((test_y==1) & (y_pred==1)).sum()\n",
    "FN = ((test_y==1) & (y_pred==0)).sum()\n",
    "FP = ((test_y==0) & (y_pred==1)).sum()\n",
    "TN = ((test_y==0) & (y_pred==0)).sum()\n",
    "acc = (TP+TN)/1000\n",
    "recall = TP/(TP+FN)\n",
    "precision = TP/(TP+FP)\n",
    "f1 = 2*precision*recall/(precision+recall)\n",
    "auc_score = roc_auc_score(test_y,y_pred)\n",
    "print('In %d data of test set, TP: %d, FN: %d, FP: %d, TN: %d'%(len(test_y),TP,FN,FP,TN))\n",
    "print('accuracy: %.3f, recall: %.3f, precision: %.3f, related f1 score: %.3f, AUC: %.3f'%(acc,recall,precision,f1, auc_score))"
   ]
  },
  {
   "cell_type": "code",
   "execution_count": 34,
   "metadata": {},
   "outputs": [
    {
     "name": "stdout",
     "output_type": "stream",
     "text": [
      "Recommended threshold: 0.142, related acc score: 1.000\n",
      "In 1000 data of test set, TP: 200, FN: 0, FP: 0, TN: 800\n",
      "accuracy: 1.000, recall: 1.000, precision: 1.000, related f1 score: 1.000, AUC: 1.000\n"
     ]
    }
   ],
   "source": [
    "i = np.argmax(acc_list)\n",
    "t = threshold[i]\n",
    "score = acc_list[i]\n",
    "print('Recommended threshold: %.3f, related acc score: %.3f'%(t,score))\n",
    "\n",
    "y_pred = (losses>t).astype(np.int64)\n",
    "y_pred = y_pred.reshape(1000,1)\n",
    "test_y = test_y.reshape(1000,1)\n",
    "TP = ((test_y==1) & (y_pred==1)).sum()\n",
    "FN = ((test_y==1) & (y_pred==0)).sum()\n",
    "FP = ((test_y==0) & (y_pred==1)).sum()\n",
    "TN = ((test_y==0) & (y_pred==0)).sum()\n",
    "acc = (TP+TN)/1000\n",
    "recall = TP/(TP+FN)\n",
    "precision = TP/(TP+FP)\n",
    "f1 = 2*precision*recall/(precision+recall)\n",
    "auc_score = roc_auc_score(test_y,y_pred)\n",
    "print('In %d data of test set, TP: %d, FN: %d, FP: %d, TN: %d'%(len(test_y),TP,FN,FP,TN))\n",
    "print('accuracy: %.3f, recall: %.3f, precision: %.3f, related f1 score: %.3f, AUC: %.3f'%(acc,recall,precision,f1, auc_score))"
   ]
  },
  {
   "cell_type": "code",
   "execution_count": null,
   "metadata": {},
   "outputs": [],
   "source": []
  }
 ],
 "metadata": {
  "interpreter": {
   "hash": "ebcc9ab275a0b8333d76f3c9007aff6798cc23ea07d3b4c53c0b1df0392e66fe"
  },
  "kernelspec": {
   "display_name": "Python 3 (ipykernel)",
   "language": "python",
   "name": "python3"
  },
  "language_info": {
   "codemirror_mode": {
    "name": "ipython",
    "version": 3
   },
   "file_extension": ".py",
   "mimetype": "text/x-python",
   "name": "python",
   "nbconvert_exporter": "python",
   "pygments_lexer": "ipython3",
   "version": "3.8.10"
  }
 },
 "nbformat": 4,
 "nbformat_minor": 4
}