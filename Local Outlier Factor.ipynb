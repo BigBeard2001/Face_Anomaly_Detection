{
 "cells": [
  {
   "cell_type": "code",
   "execution_count": 1,
   "id": "56a134ff-39e2-4524-936c-d90fd492da80",
   "metadata": {},
   "outputs": [],
   "source": [
    "import numpy as np\n",
    "import pandas as pd # data processing, CSV file I/O (e.g. pd.read_csv)\n",
    "import sys\n",
    "import matplotlib.pyplot as plt\n",
    "import seaborn as sns\n",
    "import scipy\n",
    "import sklearn\n",
    "import os\n",
    "import cv2\n",
    "from tqdm import tqdm"
   ]
  },
  {
   "cell_type": "code",
   "execution_count": null,
   "id": "6bcc1ab0-b0c0-43ae-acb3-6d1445032715",
   "metadata": {},
   "outputs": [],
   "source": [
    "def convertjpg(jpgfile,outdir,width=64,height=64):\n",
    "    img=Image.open(jpgfile)   \n",
    "    new_img=img.resize((width,height),Image.BILINEAR)   \n",
    "    new_img.save(os.path.join(outdir,os.path.basename(jpgfile)))\n",
    "for jpgfile in glob.glob('/root/autodl-tmp/thispersondoesnotexist.10k/*.jpg'):\n",
    "    convertjpg(jpgfile,'/root/autodl-tmp/thispersondoesnotexist.10k')\n",
    "for jpgfile in glob.glob('/root/autodl-tmp/0/*.jpg'):\n",
    "    convertjpg(jpgfile,'/root/autodl-tmp/0')"
   ]
  },
  {
   "cell_type": "code",
   "execution_count": 2,
   "id": "e1ef1f58-bdce-4d83-801b-422f415584e0",
   "metadata": {},
   "outputs": [],
   "source": [
    "def getFileName(filepath):\n",
    "    path_list = []\n",
    "    pathList = os.listdir(filepath)\n",
    "    for allFile in pathList:\n",
    "        everyFile = os.path.join(filepath, allFile)\n",
    "        path_list.append(everyFile)\n",
    "    return path_list\n",
    "training_path = getFileName('/root/autodl-tmp/thispersondoesnotexist.10k')\n",
    "testing_path = getFileName('/root/autodl-tmp/0')"
   ]
  },
  {
   "cell_type": "code",
   "execution_count": 3,
   "id": "9b25e063-3cc3-41f3-9b46-490a153d4a90",
   "metadata": {},
   "outputs": [],
   "source": [
    "training_path = training_path[:10000]"
   ]
  },
  {
   "cell_type": "code",
   "execution_count": 4,
   "id": "f505ec3b-9652-43d9-9f89-71a3241d52ed",
   "metadata": {},
   "outputs": [],
   "source": [
    "testing_img_path = training_path[:800] + testing_path[:200]\n",
    "training_img_path = training_path[800:]"
   ]
  },
  {
   "cell_type": "code",
   "execution_count": 5,
   "id": "1c5467c2-3e09-4cce-a2c9-eef520bce9ec",
   "metadata": {},
   "outputs": [],
   "source": [
    "test_y = 800*[0] + 200*[1]\n",
    "test_y = np.array(test_y)"
   ]
  },
  {
   "cell_type": "code",
   "execution_count": 6,
   "id": "6cd7c2a7-ecff-49ef-84cd-e80ca26ac63c",
   "metadata": {},
   "outputs": [
    {
     "name": "stdout",
     "output_type": "stream",
     "text": [
      "(9200, 64, 64, 3)\n",
      "(1000, 64, 64, 3)\n"
     ]
    }
   ],
   "source": [
    "train = np.array([cv2.imdecode(np.fromfile(path,dtype=np.uint8),-1)/ 255. for path in training_img_path])\n",
    "train = train.reshape(9200,64,64,3)\n",
    "print(train.shape)\n",
    "test = np.array([cv2.imdecode(np.fromfile(path,dtype=np.uint8),-1)/ 255. for path in testing_img_path])\n",
    "test = test.reshape(1000,64,64,3)\n",
    "print(test.shape)"
   ]
  },
  {
   "cell_type": "code",
   "execution_count": 7,
   "id": "ffb2ab86-5859-42e2-966b-ef069b053eb1",
   "metadata": {},
   "outputs": [],
   "source": [
    "from sklearn.metrics import classification_report, accuracy_score\n",
    "from sklearn.neighbors import LocalOutlierFactor"
   ]
  },
  {
   "cell_type": "code",
   "execution_count": 8,
   "id": "8aac0282-8aa4-40cb-9eed-0b67785174a5",
   "metadata": {},
   "outputs": [],
   "source": [
    "state = 1\n",
    "outlier_fraction = 200/800"
   ]
  },
  {
   "cell_type": "code",
   "execution_count": 9,
   "id": "e07cd539-a694-437c-b07e-b5ccbaefd5e8",
   "metadata": {},
   "outputs": [],
   "source": [
    "train_neg = [t.reshape(t.shape[0]* t.shape[1] * t.shape[2]) for t in train]\n",
    "test_tmp = [t.reshape(t.shape[0]* t.shape[1] * t.shape[2]) for t in test]"
   ]
  },
  {
   "cell_type": "code",
   "execution_count": 10,
   "id": "4b7d9252-b775-4214-a2a0-fdbf377b36d0",
   "metadata": {},
   "outputs": [],
   "source": [
    "cv_test_y = np.array([0]*184)"
   ]
  },
  {
   "cell_type": "code",
   "execution_count": 11,
   "id": "a86d9399-c8ba-44dc-859f-7b24a84c109f",
   "metadata": {},
   "outputs": [
    {
     "name": "stderr",
     "output_type": "stream",
     "text": [
      "  2%|▏         | 1/50 [00:46<37:51, 46.35s/it]"
     ]
    },
    {
     "name": "stdout",
     "output_type": "stream",
     "text": [
      "k =  1\n",
      "accuracy: 0.832\n",
      "In 184 data of test set, TP: 0, FN: 0, FP: 31, TN: 153\n"
     ]
    },
    {
     "name": "stderr",
     "output_type": "stream",
     "text": [
      "  4%|▍         | 2/50 [01:37<39:08, 48.92s/it]"
     ]
    },
    {
     "name": "stdout",
     "output_type": "stream",
     "text": [
      "k =  2\n",
      "accuracy: 0.804\n",
      "In 184 data of test set, TP: 0, FN: 0, FP: 36, TN: 148\n"
     ]
    },
    {
     "name": "stderr",
     "output_type": "stream",
     "text": [
      "  6%|▌         | 3/50 [02:27<38:59, 49.77s/it]"
     ]
    },
    {
     "name": "stdout",
     "output_type": "stream",
     "text": [
      "k =  3\n",
      "accuracy: 0.821\n",
      "In 184 data of test set, TP: 0, FN: 0, FP: 33, TN: 151\n"
     ]
    },
    {
     "name": "stderr",
     "output_type": "stream",
     "text": [
      "  8%|▊         | 4/50 [03:07<35:06, 45.79s/it]"
     ]
    },
    {
     "name": "stdout",
     "output_type": "stream",
     "text": [
      "k =  4\n",
      "accuracy: 0.793\n",
      "In 184 data of test set, TP: 0, FN: 0, FP: 38, TN: 146\n"
     ]
    },
    {
     "name": "stderr",
     "output_type": "stream",
     "text": [
      " 10%|█         | 5/50 [03:50<33:38, 44.86s/it]"
     ]
    },
    {
     "name": "stdout",
     "output_type": "stream",
     "text": [
      "k =  5\n",
      "accuracy: 0.766\n",
      "In 184 data of test set, TP: 0, FN: 0, FP: 43, TN: 141\n"
     ]
    },
    {
     "name": "stderr",
     "output_type": "stream",
     "text": [
      " 12%|█▏        | 6/50 [04:36<33:00, 45.01s/it]"
     ]
    },
    {
     "name": "stdout",
     "output_type": "stream",
     "text": [
      "k =  6\n",
      "accuracy: 0.707\n",
      "In 184 data of test set, TP: 0, FN: 0, FP: 54, TN: 130\n"
     ]
    },
    {
     "name": "stderr",
     "output_type": "stream",
     "text": [
      " 14%|█▍        | 7/50 [05:22<32:36, 45.50s/it]"
     ]
    },
    {
     "name": "stdout",
     "output_type": "stream",
     "text": [
      "k =  7\n",
      "accuracy: 0.772\n",
      "In 184 data of test set, TP: 0, FN: 0, FP: 42, TN: 142\n"
     ]
    },
    {
     "name": "stderr",
     "output_type": "stream",
     "text": [
      " 16%|█▌        | 8/50 [06:18<34:12, 48.87s/it]"
     ]
    },
    {
     "name": "stdout",
     "output_type": "stream",
     "text": [
      "k =  8\n",
      "accuracy: 0.788\n",
      "In 184 data of test set, TP: 0, FN: 0, FP: 39, TN: 145\n"
     ]
    },
    {
     "name": "stderr",
     "output_type": "stream",
     "text": [
      " 18%|█▊        | 9/50 [07:05<33:03, 48.39s/it]"
     ]
    },
    {
     "name": "stdout",
     "output_type": "stream",
     "text": [
      "k =  9\n",
      "accuracy: 0.745\n",
      "In 184 data of test set, TP: 0, FN: 0, FP: 47, TN: 137\n"
     ]
    },
    {
     "name": "stderr",
     "output_type": "stream",
     "text": [
      " 20%|██        | 10/50 [07:45<30:23, 45.58s/it]"
     ]
    },
    {
     "name": "stdout",
     "output_type": "stream",
     "text": [
      "k =  10\n",
      "accuracy: 0.723\n",
      "In 184 data of test set, TP: 0, FN: 0, FP: 51, TN: 133\n"
     ]
    },
    {
     "name": "stderr",
     "output_type": "stream",
     "text": [
      " 22%|██▏       | 11/50 [08:38<31:09, 47.95s/it]"
     ]
    },
    {
     "name": "stdout",
     "output_type": "stream",
     "text": [
      "k =  11\n",
      "accuracy: 0.766\n",
      "In 184 data of test set, TP: 0, FN: 0, FP: 43, TN: 141\n"
     ]
    },
    {
     "name": "stderr",
     "output_type": "stream",
     "text": [
      " 24%|██▍       | 12/50 [09:30<31:11, 49.24s/it]"
     ]
    },
    {
     "name": "stdout",
     "output_type": "stream",
     "text": [
      "k =  12\n",
      "accuracy: 0.690\n",
      "In 184 data of test set, TP: 0, FN: 0, FP: 57, TN: 127\n"
     ]
    },
    {
     "name": "stderr",
     "output_type": "stream",
     "text": [
      " 26%|██▌       | 13/50 [10:18<29:59, 48.65s/it]"
     ]
    },
    {
     "name": "stdout",
     "output_type": "stream",
     "text": [
      "k =  13\n",
      "accuracy: 0.755\n",
      "In 184 data of test set, TP: 0, FN: 0, FP: 45, TN: 139\n"
     ]
    },
    {
     "name": "stderr",
     "output_type": "stream",
     "text": [
      " 28%|██▊       | 14/50 [10:57<27:34, 45.97s/it]"
     ]
    },
    {
     "name": "stdout",
     "output_type": "stream",
     "text": [
      "k =  14\n",
      "accuracy: 0.745\n",
      "In 184 data of test set, TP: 0, FN: 0, FP: 47, TN: 137\n"
     ]
    },
    {
     "name": "stderr",
     "output_type": "stream",
     "text": [
      " 30%|███       | 15/50 [11:38<25:52, 44.36s/it]"
     ]
    },
    {
     "name": "stdout",
     "output_type": "stream",
     "text": [
      "k =  15\n",
      "accuracy: 0.761\n",
      "In 184 data of test set, TP: 0, FN: 0, FP: 44, TN: 140\n"
     ]
    },
    {
     "name": "stderr",
     "output_type": "stream",
     "text": [
      " 32%|███▏      | 16/50 [12:23<25:17, 44.64s/it]"
     ]
    },
    {
     "name": "stdout",
     "output_type": "stream",
     "text": [
      "k =  16\n",
      "accuracy: 0.696\n",
      "In 184 data of test set, TP: 0, FN: 0, FP: 56, TN: 128\n"
     ]
    },
    {
     "name": "stderr",
     "output_type": "stream",
     "text": [
      " 34%|███▍      | 17/50 [13:23<27:02, 49.17s/it]"
     ]
    },
    {
     "name": "stdout",
     "output_type": "stream",
     "text": [
      "k =  17\n",
      "accuracy: 0.755\n",
      "In 184 data of test set, TP: 0, FN: 0, FP: 45, TN: 139\n"
     ]
    },
    {
     "name": "stderr",
     "output_type": "stream",
     "text": [
      " 36%|███▌      | 18/50 [14:17<26:56, 50.50s/it]"
     ]
    },
    {
     "name": "stdout",
     "output_type": "stream",
     "text": [
      "k =  18\n",
      "accuracy: 0.734\n",
      "In 184 data of test set, TP: 0, FN: 0, FP: 49, TN: 135\n"
     ]
    },
    {
     "name": "stderr",
     "output_type": "stream",
     "text": [
      " 38%|███▊      | 19/50 [15:02<25:22, 49.12s/it]"
     ]
    },
    {
     "name": "stdout",
     "output_type": "stream",
     "text": [
      "k =  19\n",
      "accuracy: 0.750\n",
      "In 184 data of test set, TP: 0, FN: 0, FP: 46, TN: 138\n"
     ]
    },
    {
     "name": "stderr",
     "output_type": "stream",
     "text": [
      " 40%|████      | 20/50 [15:53<24:46, 49.53s/it]"
     ]
    },
    {
     "name": "stdout",
     "output_type": "stream",
     "text": [
      "k =  20\n",
      "accuracy: 0.723\n",
      "In 184 data of test set, TP: 0, FN: 0, FP: 51, TN: 133\n"
     ]
    },
    {
     "name": "stderr",
     "output_type": "stream",
     "text": [
      " 42%|████▏     | 21/50 [16:40<23:36, 48.83s/it]"
     ]
    },
    {
     "name": "stdout",
     "output_type": "stream",
     "text": [
      "k =  21\n",
      "accuracy: 0.734\n",
      "In 184 data of test set, TP: 0, FN: 0, FP: 49, TN: 135\n"
     ]
    },
    {
     "name": "stderr",
     "output_type": "stream",
     "text": [
      " 44%|████▍     | 22/50 [17:24<22:09, 47.47s/it]"
     ]
    },
    {
     "name": "stdout",
     "output_type": "stream",
     "text": [
      "k =  22\n",
      "accuracy: 0.690\n",
      "In 184 data of test set, TP: 0, FN: 0, FP: 57, TN: 127\n"
     ]
    },
    {
     "name": "stderr",
     "output_type": "stream",
     "text": [
      " 46%|████▌     | 23/50 [18:16<21:52, 48.60s/it]"
     ]
    },
    {
     "name": "stdout",
     "output_type": "stream",
     "text": [
      "k =  23\n",
      "accuracy: 0.728\n",
      "In 184 data of test set, TP: 0, FN: 0, FP: 50, TN: 134\n"
     ]
    },
    {
     "name": "stderr",
     "output_type": "stream",
     "text": [
      " 48%|████▊     | 24/50 [19:04<21:04, 48.62s/it]"
     ]
    },
    {
     "name": "stdout",
     "output_type": "stream",
     "text": [
      "k =  24\n",
      "accuracy: 0.766\n",
      "In 184 data of test set, TP: 0, FN: 0, FP: 43, TN: 141\n"
     ]
    },
    {
     "name": "stderr",
     "output_type": "stream",
     "text": [
      " 50%|█████     | 25/50 [19:49<19:46, 47.45s/it]"
     ]
    },
    {
     "name": "stdout",
     "output_type": "stream",
     "text": [
      "k =  25\n",
      "accuracy: 0.734\n",
      "In 184 data of test set, TP: 0, FN: 0, FP: 49, TN: 135\n"
     ]
    },
    {
     "name": "stderr",
     "output_type": "stream",
     "text": [
      " 52%|█████▏    | 26/50 [20:41<19:34, 48.94s/it]"
     ]
    },
    {
     "name": "stdout",
     "output_type": "stream",
     "text": [
      "k =  26\n",
      "accuracy: 0.668\n",
      "In 184 data of test set, TP: 0, FN: 0, FP: 61, TN: 123\n"
     ]
    },
    {
     "name": "stderr",
     "output_type": "stream",
     "text": [
      " 54%|█████▍    | 27/50 [21:28<18:30, 48.30s/it]"
     ]
    },
    {
     "name": "stdout",
     "output_type": "stream",
     "text": [
      "k =  27\n",
      "accuracy: 0.663\n",
      "In 184 data of test set, TP: 0, FN: 0, FP: 62, TN: 122\n"
     ]
    },
    {
     "name": "stderr",
     "output_type": "stream",
     "text": [
      " 56%|█████▌    | 28/50 [22:14<17:22, 47.39s/it]"
     ]
    },
    {
     "name": "stdout",
     "output_type": "stream",
     "text": [
      "k =  28\n",
      "accuracy: 0.728\n",
      "In 184 data of test set, TP: 0, FN: 0, FP: 50, TN: 134\n"
     ]
    },
    {
     "name": "stderr",
     "output_type": "stream",
     "text": [
      " 58%|█████▊    | 29/50 [23:09<17:23, 49.70s/it]"
     ]
    },
    {
     "name": "stdout",
     "output_type": "stream",
     "text": [
      "k =  29\n",
      "accuracy: 0.755\n",
      "In 184 data of test set, TP: 0, FN: 0, FP: 45, TN: 139\n"
     ]
    },
    {
     "name": "stderr",
     "output_type": "stream",
     "text": [
      " 60%|██████    | 30/50 [23:59<16:35, 49.79s/it]"
     ]
    },
    {
     "name": "stdout",
     "output_type": "stream",
     "text": [
      "k =  30\n",
      "accuracy: 0.745\n",
      "In 184 data of test set, TP: 0, FN: 0, FP: 47, TN: 137\n"
     ]
    },
    {
     "name": "stderr",
     "output_type": "stream",
     "text": [
      " 62%|██████▏   | 31/50 [24:56<16:26, 51.93s/it]"
     ]
    },
    {
     "name": "stdout",
     "output_type": "stream",
     "text": [
      "k =  31\n",
      "accuracy: 0.707\n",
      "In 184 data of test set, TP: 0, FN: 0, FP: 54, TN: 130\n"
     ]
    },
    {
     "name": "stderr",
     "output_type": "stream",
     "text": [
      " 64%|██████▍   | 32/50 [25:44<15:13, 50.78s/it]"
     ]
    },
    {
     "name": "stdout",
     "output_type": "stream",
     "text": [
      "k =  32\n",
      "accuracy: 0.750\n",
      "In 184 data of test set, TP: 0, FN: 0, FP: 46, TN: 138\n"
     ]
    },
    {
     "name": "stderr",
     "output_type": "stream",
     "text": [
      " 66%|██████▌   | 33/50 [26:32<14:11, 50.10s/it]"
     ]
    },
    {
     "name": "stdout",
     "output_type": "stream",
     "text": [
      "k =  33\n",
      "accuracy: 0.723\n",
      "In 184 data of test set, TP: 0, FN: 0, FP: 51, TN: 133\n"
     ]
    },
    {
     "name": "stderr",
     "output_type": "stream",
     "text": [
      " 68%|██████▊   | 34/50 [27:33<14:13, 53.37s/it]"
     ]
    },
    {
     "name": "stdout",
     "output_type": "stream",
     "text": [
      "k =  34\n",
      "accuracy: 0.772\n",
      "In 184 data of test set, TP: 0, FN: 0, FP: 42, TN: 142\n"
     ]
    },
    {
     "name": "stderr",
     "output_type": "stream",
     "text": [
      " 70%|███████   | 35/50 [28:27<13:20, 53.38s/it]"
     ]
    },
    {
     "name": "stdout",
     "output_type": "stream",
     "text": [
      "k =  35\n",
      "accuracy: 0.712\n",
      "In 184 data of test set, TP: 0, FN: 0, FP: 53, TN: 131\n"
     ]
    },
    {
     "name": "stderr",
     "output_type": "stream",
     "text": [
      " 72%|███████▏  | 36/50 [29:15<12:04, 51.76s/it]"
     ]
    },
    {
     "name": "stdout",
     "output_type": "stream",
     "text": [
      "k =  36\n",
      "accuracy: 0.750\n",
      "In 184 data of test set, TP: 0, FN: 0, FP: 46, TN: 138\n"
     ]
    },
    {
     "name": "stderr",
     "output_type": "stream",
     "text": [
      " 74%|███████▍  | 37/50 [30:03<11:01, 50.88s/it]"
     ]
    },
    {
     "name": "stdout",
     "output_type": "stream",
     "text": [
      "k =  37\n",
      "accuracy: 0.750\n",
      "In 184 data of test set, TP: 0, FN: 0, FP: 46, TN: 138\n"
     ]
    },
    {
     "name": "stderr",
     "output_type": "stream",
     "text": [
      " 76%|███████▌  | 38/50 [30:56<10:17, 51.42s/it]"
     ]
    },
    {
     "name": "stdout",
     "output_type": "stream",
     "text": [
      "k =  38\n",
      "accuracy: 0.788\n",
      "In 184 data of test set, TP: 0, FN: 0, FP: 39, TN: 145\n"
     ]
    },
    {
     "name": "stderr",
     "output_type": "stream",
     "text": [
      " 78%|███████▊  | 39/50 [31:39<08:56, 48.78s/it]"
     ]
    },
    {
     "name": "stdout",
     "output_type": "stream",
     "text": [
      "k =  39\n",
      "accuracy: 0.783\n",
      "In 184 data of test set, TP: 0, FN: 0, FP: 40, TN: 144\n"
     ]
    },
    {
     "name": "stderr",
     "output_type": "stream",
     "text": [
      " 80%|████████  | 40/50 [32:18<07:39, 45.96s/it]"
     ]
    },
    {
     "name": "stdout",
     "output_type": "stream",
     "text": [
      "k =  40\n",
      "accuracy: 0.717\n",
      "In 184 data of test set, TP: 0, FN: 0, FP: 52, TN: 132\n"
     ]
    },
    {
     "name": "stderr",
     "output_type": "stream",
     "text": [
      " 82%|████████▏ | 41/50 [33:02<06:47, 45.26s/it]"
     ]
    },
    {
     "name": "stdout",
     "output_type": "stream",
     "text": [
      "k =  41\n",
      "accuracy: 0.707\n",
      "In 184 data of test set, TP: 0, FN: 0, FP: 54, TN: 130\n"
     ]
    },
    {
     "name": "stderr",
     "output_type": "stream",
     "text": [
      " 84%|████████▍ | 42/50 [33:50<06:10, 46.26s/it]"
     ]
    },
    {
     "name": "stdout",
     "output_type": "stream",
     "text": [
      "k =  42\n",
      "accuracy: 0.717\n",
      "In 184 data of test set, TP: 0, FN: 0, FP: 52, TN: 132\n"
     ]
    },
    {
     "name": "stderr",
     "output_type": "stream",
     "text": [
      " 86%|████████▌ | 43/50 [34:34<05:18, 45.46s/it]"
     ]
    },
    {
     "name": "stdout",
     "output_type": "stream",
     "text": [
      "k =  43\n",
      "accuracy: 0.734\n",
      "In 184 data of test set, TP: 0, FN: 0, FP: 49, TN: 135\n"
     ]
    },
    {
     "name": "stderr",
     "output_type": "stream",
     "text": [
      " 88%|████████▊ | 44/50 [35:25<04:42, 47.12s/it]"
     ]
    },
    {
     "name": "stdout",
     "output_type": "stream",
     "text": [
      "k =  44\n",
      "accuracy: 0.761\n",
      "In 184 data of test set, TP: 0, FN: 0, FP: 44, TN: 140\n"
     ]
    },
    {
     "name": "stderr",
     "output_type": "stream",
     "text": [
      " 90%|█████████ | 45/50 [36:13<03:57, 47.51s/it]"
     ]
    },
    {
     "name": "stdout",
     "output_type": "stream",
     "text": [
      "k =  45\n",
      "accuracy: 0.750\n",
      "In 184 data of test set, TP: 0, FN: 0, FP: 46, TN: 138\n"
     ]
    },
    {
     "name": "stderr",
     "output_type": "stream",
     "text": [
      " 92%|█████████▏| 46/50 [37:07<03:17, 49.37s/it]"
     ]
    },
    {
     "name": "stdout",
     "output_type": "stream",
     "text": [
      "k =  46\n",
      "accuracy: 0.707\n",
      "In 184 data of test set, TP: 0, FN: 0, FP: 54, TN: 130\n"
     ]
    },
    {
     "name": "stderr",
     "output_type": "stream",
     "text": [
      " 94%|█████████▍| 47/50 [37:51<02:23, 47.87s/it]"
     ]
    },
    {
     "name": "stdout",
     "output_type": "stream",
     "text": [
      "k =  47\n",
      "accuracy: 0.739\n",
      "In 184 data of test set, TP: 0, FN: 0, FP: 48, TN: 136\n"
     ]
    },
    {
     "name": "stderr",
     "output_type": "stream",
     "text": [
      " 96%|█████████▌| 48/50 [38:39<01:35, 47.91s/it]"
     ]
    },
    {
     "name": "stdout",
     "output_type": "stream",
     "text": [
      "k =  48\n",
      "accuracy: 0.723\n",
      "In 184 data of test set, TP: 0, FN: 0, FP: 51, TN: 133\n"
     ]
    },
    {
     "name": "stderr",
     "output_type": "stream",
     "text": [
      " 98%|█████████▊| 49/50 [39:28<00:48, 48.06s/it]"
     ]
    },
    {
     "name": "stdout",
     "output_type": "stream",
     "text": [
      "k =  49\n",
      "accuracy: 0.690\n",
      "In 184 data of test set, TP: 0, FN: 0, FP: 57, TN: 127\n"
     ]
    },
    {
     "name": "stderr",
     "output_type": "stream",
     "text": [
      "100%|██████████| 50/50 [40:20<00:00, 48.42s/it]"
     ]
    },
    {
     "name": "stdout",
     "output_type": "stream",
     "text": [
      "k =  50\n",
      "accuracy: 0.734\n",
      "In 184 data of test set, TP: 0, FN: 0, FP: 49, TN: 135\n"
     ]
    },
    {
     "name": "stderr",
     "output_type": "stream",
     "text": [
      "\n"
     ]
    }
   ],
   "source": [
    "acc_list = []\n",
    "for i in tqdm(range(50)):\n",
    "    k = i + 1\n",
    "    cv_test = train_neg[184*i:184*k]\n",
    "    if i == 0:\n",
    "        cv_train = train_neg[184*k:]\n",
    "    else:\n",
    "        cv_train = train_neg[:184*i] + train_neg[184*k:]\n",
    "    clf = LocalOutlierFactor(n_neighbors = k, contamination = outlier_fraction, novelty=True)\n",
    "    clf.fit(cv_train)\n",
    "    result = clf.predict(cv_test)\n",
    "    result = result.reshape(184,1)\n",
    "    cv_test_y = cv_test_y.reshape(184,1)\n",
    "    TP = 0\n",
    "    FN = 0\n",
    "    FP = ((cv_test_y==0) & (result==-1)).sum()\n",
    "    TN = ((cv_test_y==0) & (result==1)).sum()\n",
    "    acc = TN/184\n",
    "    print('k = ', k)\n",
    "    print('accuracy: %.3f'%(acc))\n",
    "    print('In %d data of test set, TP: %d, FN: %d, FP: %d, TN: %d'%(len(cv_test_y),TP,FN,FP,TN))\n",
    "    acc_list.append(acc)"
   ]
  },
  {
   "cell_type": "code",
   "execution_count": 13,
   "id": "e0cec890-437f-4223-8783-e1b8760c4d0c",
   "metadata": {},
   "outputs": [
    {
     "data": {
      "text/plain": [
       "[<matplotlib.lines.Line2D at 0x7f6760d04df0>]"
      ]
     },
     "execution_count": 13,
     "metadata": {},
     "output_type": "execute_result"
    },
    {
     "data": {
      "image/png": "[encoded data removed]",
      "text/plain": [
       "<Figure size 432x288 with 1 Axes>"
      ]
     },
     "metadata": {
      "needs_background": "light"
     },
     "output_type": "display_data"
    }
   ],
   "source": [
    "import matplotlib.pyplot as plt\n",
    "index = np.linspace(1, 51, 50)\n",
    "plt.plot(index, acc_list)"
   ]
  },
  {
   "cell_type": "code",
   "execution_count": 11,
   "id": "bc55a78c-b7ec-4cc8-8840-57624edb6924",
   "metadata": {},
   "outputs": [],
   "source": [
    "clf = LocalOutlierFactor(n_neighbors = 1, contamination = outlier_fraction, novelty=True)\n",
    "clf.fit(train_neg)\n",
    "result = clf.predict(test_tmp)"
   ]
  },
  {
   "cell_type": "code",
   "execution_count": 12,
   "id": "094fa902-996e-4302-9d22-113ec0fafab2",
   "metadata": {},
   "outputs": [
    {
     "name": "stdout",
     "output_type": "stream",
     "text": [
      "accuracy: 0.838, recall: 1.000, precision: 0.552, related f1 score: 0.712\n",
      "In 1000 data of test set, TP: 200, FN: 0, FP: 162, TN: 638\n"
     ]
    }
   ],
   "source": [
    "result = result.reshape(1000,1)\n",
    "test_y = test_y.reshape(1000,1)\n",
    "TP = ((test_y==1) & (result==-1)).sum()\n",
    "FN = ((test_y==1) & (result==1)).sum()\n",
    "FP = ((test_y==0) & (result==-1)).sum()\n",
    "TN = ((test_y==0) & (result==1)).sum()\n",
    "acc = (TP+TN)/1000\n",
    "recall = TP/(TP+FN)\n",
    "precision = TP/(TP+FP)\n",
    "f1 = 2*precision*recall/(precision+recall)\n",
    "print('accuracy: %.3f, recall: %.3f, precision: %.3f, related f1 score: %.3f'%(acc,recall,precision,f1))\n",
    "print('In %d data of test set, TP: %d, FN: %d, FP: %d, TN: %d'%(len(test_y),TP,FN,FP,TN))"
   ]
  },
  {
   "cell_type": "code",
   "execution_count": 13,
   "id": "722db251-6776-47f7-989f-d8820568dae3",
   "metadata": {},
   "outputs": [],
   "source": [
    "result[np.where(result==1),:] = 0"
   ]
  },
  {
   "cell_type": "code",
   "execution_count": 14,
   "id": "a48902ba-07e2-41af-bbc3-9585d1c3409b",
   "metadata": {},
   "outputs": [],
   "source": [
    "result[np.where(result==-1),:] = 1"
   ]
  },
  {
   "cell_type": "code",
   "execution_count": 15,
   "id": "6d33e9b2-1676-4d50-a0ca-eaf399963b65",
   "metadata": {},
   "outputs": [
    {
     "name": "stdout",
     "output_type": "stream",
     "text": [
      "accuracy: 0.837, recall: 1.000, precision: 0.551, related f1 score: 0.710, AUC: 0.898\n",
      "In 1000 data of test set, TP: 200, FN: 0, FP: 163, TN: 637\n"
     ]
    }
   ],
   "source": [
    "from sklearn.metrics import roc_auc_score\n",
    "test_y = test_y.reshape(1000,1)\n",
    "TP = ((test_y==1) & (result==1)).sum()\n",
    "FN = ((test_y==1) & (result==0)).sum()\n",
    "FP = ((test_y==0) & (result==1)).sum()\n",
    "TN = ((test_y==0) & (result==0)).sum()\n",
    "acc = (TP+TN)/1000\n",
    "recall = TP/(TP+FN)\n",
    "precision = TP/(TP+FP)\n",
    "f1 = 2*precision*recall/(precision+recall)\n",
    "auc_score = roc_auc_score(test_y, result)\n",
    "print('accuracy: %.3f, recall: %.3f, precision: %.3f, related f1 score: %.3f, AUC: %.3f'%(acc,recall,precision,f1,auc_score))\n",
    "print('In %d data of test set, TP: %d, FN: %d, FP: %d, TN: %d'%(len(test_y),TP,FN,FP,TN))"
   ]
  },
  {
   "cell_type": "code",
   "execution_count": null,
   "id": "476080f3-7d0a-40fe-a85d-44fea355387e",
   "metadata": {},
   "outputs": [],
   "source": []
  }
 ],
 "metadata": {
  "kernelspec": {
   "display_name": "Python 3 (ipykernel)",
   "language": "python",
   "name": "python3"
  },
  "language_info": {
   "codemirror_mode": {
    "name": "ipython",
    "version": 3
   },
   "file_extension": ".py",
   "mimetype": "text/x-python",
   "name": "python",
   "nbconvert_exporter": "python",
   "pygments_lexer": "ipython3",
   "version": "3.8.10"
  }
 },
 "nbformat": 4,
 "nbformat_minor": 5
}
